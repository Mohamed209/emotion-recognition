{
 "cells": [
  {
   "cell_type": "code",
   "execution_count": 8,
   "metadata": {},
   "outputs": [],
   "source": [
    "# import the necessary packages\n",
    "from keras.models import Sequential\n",
    "from keras.layers import Conv2D, MaxPooling2D\n",
    "from keras.layers.core import Activation, Flatten, Dense, Dropout\n",
    "from sklearn.model_selection import train_test_split\n",
    "from sklearn.metrics import classification_report\n",
    "from sklearn.metrics import confusion_matrix\n",
    "from keras.utils import to_categorical\n",
    "from keras.layers import BatchNormalization\n",
    "import matplotlib.pyplot as plt\n",
    "import pandas as pd\n",
    "import numpy as np\n",
    "import cv2"
   ]
  },
  {
   "cell_type": "code",
   "execution_count": 2,
   "metadata": {},
   "outputs": [],
   "source": [
    "IMAGES_PATH='../../data/processed/images.pkl'\n",
    "EMOTIONS_PATH='../../data/processed/emotions.pkl'\n",
    "features=pd.read_pickle(IMAGES_PATH)\n",
    "labels=pd.read_pickle(EMOTIONS_PATH)"
   ]
  },
  {
   "cell_type": "code",
   "execution_count": 3,
   "metadata": {},
   "outputs": [],
   "source": [
    "# neural network variables\n",
    "image_width=48\n",
    "image_height=48\n",
    "EPOCHES= 5\n",
    "BATCH_SIZE= 64\n",
    "NO_OF_CLASSES=7\n",
    "NO_OF_IMAGES=len(features)\n",
    "NO_OF_CHANNELS=1"
   ]
  },
  {
   "cell_type": "code",
   "execution_count": 4,
   "metadata": {},
   "outputs": [],
   "source": [
    "X=np.zeros(shape=(NO_OF_IMAGES,image_width,image_height,NO_OF_CHANNELS)) # features (images)\n",
    "y=np.zeros(shape=(NO_OF_IMAGES),dtype=int) # labels"
   ]
  },
  {
   "cell_type": "code",
   "execution_count": 5,
   "metadata": {},
   "outputs": [],
   "source": [
    "for i in range (NO_OF_IMAGES):\n",
    "    X[i]=features['pixels'].iloc[i]\n",
    "    y[i]=labels['emotion'].iloc[i]"
   ]
  },
  {
   "cell_type": "code",
   "execution_count": 7,
   "metadata": {},
   "outputs": [],
   "source": [
    "y=to_categorical(y,num_classes=7) # labels one hot encoding\n",
    "X_train, X_test, y_train, y_test = train_test_split(X, y, test_size=0.25, random_state=42)\n",
    "\n",
    "# feature scaling\n",
    "X_train = X_train / 255.\n",
    "X_test = X_test / 255."
   ]
  },
  {
   "cell_type": "code",
   "execution_count": 24,
   "metadata": {},
   "outputs": [
    {
     "name": "stdout",
     "output_type": "stream",
     "text": [
      "_________________________________________________________________\n",
      "Layer (type)                 Output Shape              Param #   \n",
      "=================================================================\n",
      "conv2d_24 (Conv2D)           (None, 46, 46, 64)        640       \n",
      "_________________________________________________________________\n",
      "batch_normalization_21 (Batc (None, 46, 46, 64)        256       \n",
      "_________________________________________________________________\n",
      "conv2d_25 (Conv2D)           (None, 44, 44, 64)        36928     \n",
      "_________________________________________________________________\n",
      "batch_normalization_22 (Batc (None, 44, 44, 64)        256       \n",
      "_________________________________________________________________\n",
      "max_pooling2d_15 (MaxPooling (None, 22, 22, 64)        0         \n",
      "_________________________________________________________________\n",
      "dropout_17 (Dropout)         (None, 22, 22, 64)        0         \n",
      "_________________________________________________________________\n",
      "conv2d_26 (Conv2D)           (None, 20, 20, 128)       73856     \n",
      "_________________________________________________________________\n",
      "batch_normalization_23 (Batc (None, 20, 20, 128)       512       \n",
      "_________________________________________________________________\n",
      "conv2d_27 (Conv2D)           (None, 18, 18, 128)       147584    \n",
      "_________________________________________________________________\n",
      "batch_normalization_24 (Batc (None, 18, 18, 128)       512       \n",
      "_________________________________________________________________\n",
      "max_pooling2d_16 (MaxPooling (None, 9, 9, 128)         0         \n",
      "_________________________________________________________________\n",
      "dropout_18 (Dropout)         (None, 9, 9, 128)         0         \n",
      "_________________________________________________________________\n",
      "conv2d_28 (Conv2D)           (None, 7, 7, 256)         295168    \n",
      "_________________________________________________________________\n",
      "batch_normalization_25 (Batc (None, 7, 7, 256)         1024      \n",
      "_________________________________________________________________\n",
      "conv2d_29 (Conv2D)           (None, 5, 5, 512)         1180160   \n",
      "_________________________________________________________________\n",
      "batch_normalization_26 (Batc (None, 5, 5, 512)         2048      \n",
      "_________________________________________________________________\n",
      "dropout_19 (Dropout)         (None, 5, 5, 512)         0         \n",
      "_________________________________________________________________\n",
      "flatten_2 (Flatten)          (None, 12800)             0         \n",
      "_________________________________________________________________\n",
      "dense_4 (Dense)              (None, 343)               4390743   \n",
      "_________________________________________________________________\n",
      "dropout_20 (Dropout)         (None, 343)               0         \n",
      "_________________________________________________________________\n",
      "dense_5 (Dense)              (None, 49)                16856     \n",
      "_________________________________________________________________\n",
      "dropout_21 (Dropout)         (None, 49)                0         \n",
      "_________________________________________________________________\n",
      "dense_6 (Dense)              (None, 7)                 350       \n",
      "=================================================================\n",
      "Total params: 6,146,893\n",
      "Trainable params: 6,144,589\n",
      "Non-trainable params: 2,304\n",
      "_________________________________________________________________\n",
      "None\n"
     ]
    }
   ],
   "source": [
    "model = Sequential()\n",
    "\n",
    "#1st convolution layer\n",
    "model.add(Conv2D(filters=64,\n",
    "                 kernel_size=(3, 3),\n",
    "                 activation='relu',\n",
    "                 input_shape=(image_height,image_width,NO_OF_CHANNELS)))\n",
    "model.add(BatchNormalization())\n",
    "model.add(Conv2D(filters=64,\n",
    "                 kernel_size=(3, 3),\n",
    "                 activation='relu',))\n",
    "\n",
    "model.add(BatchNormalization())\n",
    "model.add(MaxPooling2D(pool_size=(2,2)))\n",
    "model.add(Dropout(0.2))\n",
    "#2nd convolution layer\n",
    "model.add(Conv2D(filters=128,\n",
    "                 kernel_size=(3, 3),\n",
    "                 activation='relu'))\n",
    "model.add(BatchNormalization())\n",
    "model.add(Conv2D(filters=128,\n",
    "                 kernel_size=(3, 3),\n",
    "                 activation='relu'))\n",
    "\n",
    "model.add(BatchNormalization())\n",
    "model.add(MaxPooling2D(pool_size=(2,2)))\n",
    "model.add(Dropout(0.2))\n",
    "#3rd convolution layer\n",
    "model.add(Conv2D(filters=256,\n",
    "                 kernel_size=(3, 3),\n",
    "                 activation='relu'))\n",
    "model.add(BatchNormalization())\n",
    "#4th convolution layer\n",
    "model.add(Conv2D(filters=512,\n",
    "                 kernel_size=(3, 3),\n",
    "                 activation='relu'))\n",
    "model.add(BatchNormalization())\n",
    "model.add(Dropout(0.2))\n",
    "          \n",
    "model.add(Flatten())\n",
    " \n",
    "#fully connected neural networks\n",
    "model.add(Dense(units=343,\n",
    "                activation='relu'))\n",
    "model.add(Dropout(0.2))\n",
    "model.add(Dense(units=49, \n",
    "                activation='relu'))\n",
    "model.add(Dropout(0.2))\n",
    " \n",
    "model.add(Dense(units=NO_OF_CLASSES,\n",
    "                activation='softmax'))\n",
    "model.compile(loss='categorical_crossentropy',\n",
    "              optimizer='adam',\n",
    "metrics=['accuracy'])\n",
    "print(model.summary())"
   ]
  },
  {
   "cell_type": "code",
   "execution_count": 17,
   "metadata": {},
   "outputs": [
    {
     "name": "stderr",
     "output_type": "stream",
     "text": [
      "W0824 11:22:53.798462 140313019393856 deprecation.py:323] From /usr/local/lib/python3.7/dist-packages/tensorflow/python/ops/math_grad.py:1250: add_dispatch_support.<locals>.wrapper (from tensorflow.python.ops.array_ops) is deprecated and will be removed in a future version.\n",
      "Instructions for updating:\n",
      "Use tf.where in 2.0, which has the same broadcast rule as np.where\n"
     ]
    },
    {
     "name": "stdout",
     "output_type": "stream",
     "text": [
      "Train on 26915 samples, validate on 8972 samples\n",
      "Epoch 1/10\n",
      "26915/26915 [==============================] - 682s 25ms/step - loss: 1.7751 - acc: 0.2789 - val_loss: 1.7121 - val_acc: 0.2918\n",
      "Epoch 2/10\n",
      "26915/26915 [==============================] - 698s 26ms/step - loss: 1.4989 - acc: 0.4126 - val_loss: 1.5677 - val_acc: 0.4041\n",
      "Epoch 3/10\n",
      "26915/26915 [==============================] - 673s 25ms/step - loss: 1.3729 - acc: 0.4766 - val_loss: 1.4058 - val_acc: 0.4446\n",
      "Epoch 4/10\n",
      "26915/26915 [==============================] - 685s 25ms/step - loss: 1.2911 - acc: 0.5124 - val_loss: 1.3021 - val_acc: 0.5124\n",
      "Epoch 5/10\n",
      "26915/26915 [==============================] - 689s 26ms/step - loss: 1.2143 - acc: 0.5388 - val_loss: 1.2262 - val_acc: 0.5230\n",
      "Epoch 6/10\n",
      "26915/26915 [==============================] - 679s 25ms/step - loss: 1.1635 - acc: 0.5615 - val_loss: 1.2180 - val_acc: 0.5331\n",
      "Epoch 7/10\n",
      "26915/26915 [==============================] - 672s 25ms/step - loss: 1.1088 - acc: 0.5840 - val_loss: 1.1828 - val_acc: 0.5582\n",
      "Epoch 8/10\n",
      "26915/26915 [==============================] - 690s 26ms/step - loss: 1.0505 - acc: 0.6040 - val_loss: 1.1934 - val_acc: 0.5512\n",
      "Epoch 9/10\n",
      "26915/26915 [==============================] - 691s 26ms/step - loss: 0.9928 - acc: 0.6275 - val_loss: 1.3474 - val_acc: 0.5051\n",
      "Epoch 10/10\n",
      "26915/26915 [==============================] - 727s 27ms/step - loss: 0.9443 - acc: 0.6479 - val_loss: 1.1774 - val_acc: 0.5632\n"
     ]
    }
   ],
   "source": [
    "history=model.fit(X_train, y_train,\n",
    "                  validation_data=(X_test, y_test),\n",
    "                  epochs=EPOCHES, \n",
    "                  batch_size=BATCH_SIZE,\n",
    "                  verbose=1)"
   ]
  },
  {
   "cell_type": "code",
   "execution_count": 18,
   "metadata": {},
   "outputs": [
    {
     "data": {
      "text/plain": [
       "<matplotlib.legend.Legend at 0x7f9c83195b38>"
      ]
     },
     "execution_count": 18,
     "metadata": {},
     "output_type": "execute_result"
    },
    {
     "data": {
      "image/png": "[encoded data removed]",
      "text/plain": [
       "<Figure size 432x288 with 1 Axes>"
      ]
     },
     "metadata": {
      "needs_background": "light"
     },
     "output_type": "display_data"
    },
    {
     "data": {
      "image/png": "[encoded data removed]",
      "text/plain": [
       "<Figure size 432x288 with 1 Axes>"
      ]
     },
     "metadata": {
      "needs_background": "light"
     },
     "output_type": "display_data"
    }
   ],
   "source": [
    "# Visualize loss and accuracy\n",
    "accuracy = history.history['acc']\n",
    "val_accuracy = history.history['val_acc']\n",
    "loss = history.history['loss']\n",
    "val_loss = history.history['val_loss']\n",
    "epochs = range(len(accuracy))\n",
    "plt.plot(epochs, accuracy, label='Training accuracy')\n",
    "plt.plot(epochs, val_accuracy, label='Validation accuracy')\n",
    "plt.title('Training and validation accuracy')\n",
    "plt.legend()\n",
    "plt.figure()\n",
    "plt.plot(epochs, loss, label='Training loss')\n",
    "plt.plot(epochs, val_loss, label='Validation loss')\n",
    "plt.title('Training and validation loss')\n",
    "plt.legend()"
   ]
  },
  {
   "cell_type": "code",
   "execution_count": 19,
   "metadata": {},
   "outputs": [
    {
     "name": "stdout",
     "output_type": "stream",
     "text": [
      "Test loss: 1.177392971233975\n",
      "Test accuracy: 0.5631966116807846\n"
     ]
    }
   ],
   "source": [
    "# model evaluation\n",
    "test_eval = model.evaluate(X_test, y_test, verbose=0)\n",
    "print('Test loss:', test_eval[0])\n",
    "print('Test accuracy:', test_eval[1])"
   ]
  },
  {
   "cell_type": "code",
   "execution_count": 21,
   "metadata": {},
   "outputs": [
    {
     "name": "stdout",
     "output_type": "stream",
     "text": [
      "model saved\n"
     ]
    }
   ],
   "source": [
    "# save the model\n",
    "model.save('../../model-weights/emotion_model1.h5py')\n",
    "print('model saved')"
   ]
  },
  {
   "cell_type": "code",
   "execution_count": null,
   "metadata": {},
   "outputs": [],
   "source": []
  }
 ],
 "metadata": {
  "kernelspec": {
   "display_name": "Python 3",
   "language": "python",
   "name": "python3"
  },
  "language_info": {
   "codemirror_mode": {
    "name": "ipython",
    "version": 3
   },
   "file_extension": ".py",
   "mimetype": "text/x-python",
   "name": "python",
   "nbconvert_exporter": "python",
   "pygments_lexer": "ipython3",
   "version": "3.7.3"
  }
 },
 "nbformat": 4,
 "nbformat_minor": 2
}
