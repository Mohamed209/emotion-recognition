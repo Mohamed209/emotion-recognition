{
 "cells": [
  {
   "cell_type": "code",
   "execution_count": 38,
   "metadata": {},
   "outputs": [],
   "source": [
    "import cv2\n",
    "import dlib\n",
    "import matplotlib.pyplot as plt\n",
    "import numpy as np\n",
    "from keras.models import load_model"
   ]
  },
  {
   "cell_type": "code",
   "execution_count": 42,
   "metadata": {},
   "outputs": [],
   "source": [
    "IMAGES_PATH='../../data/test-images/happy1.jpg'\n",
    "FACE_DETECTOR_WEIGHTS='../../dlib-data/mmod_human_face_detector.dat'\n",
    "EMOTION_DETECTOR_WEIGHTS='../../model-weights/emotion_model1.h5py'\n",
    "IMAGE_WIDTH=48\n",
    "IMAGE_HEIGHT=48\n",
    "NO_OF_CHANNELS=1\n",
    "emotions={\n",
    "    0:'Angry',\n",
    "    1:'Disgust',\n",
    "    2:'Fear',\n",
    "    3:'Happy',\n",
    "    4:'Sad',\n",
    "    5:'Surprise',\n",
    "    6:'Neutral'\n",
    "}"
   ]
  },
  {
   "cell_type": "code",
   "execution_count": null,
   "metadata": {},
   "outputs": [],
   "source": [
    "image=cv2.imread(IMAGES_PATH,1)\n",
    "cnn_face_detector = dlib.cnn_face_detection_model_v1(FACE_DETECTOR_WEIGHTS)\n",
    "faceRects = cnn_face_detector(image, 1)\n",
    "emotion_detector=load_model(EMOTION_DETECTOR_WEIGHTS)"
   ]
  },
  {
   "cell_type": "code",
   "execution_count": 58,
   "metadata": {},
   "outputs": [
    {
     "name": "stdout",
     "output_type": "stream",
     "text": [
      "Happy\n"
     ]
    }
   ],
   "source": [
    "for face in faceRects:\n",
    "    cv2.rectangle(image,\n",
    "                  (face.rect.left(),\n",
    "                         face.rect.top()),\n",
    "                         (face.rect.right(),\n",
    "                          face.rect.bottom()),\n",
    "                  (0,255,0),\n",
    "                  3)\n",
    "    face_part=image[face.rect.top():face.rect.bottom(),face.rect.left():face.rect.right()]\n",
    "    # graysale\n",
    "    face_part=cv2.cvtColor(face_part,cv2.COLOR_BGR2GRAY)\n",
    "    # resize \n",
    "    face_part=cv2.resize(face_part,(IMAGE_HEIGHT,IMAGE_WIDTH))\n",
    "    \n",
    "    face_part=np.reshape(face_part,(1,IMAGE_HEIGHT,IMAGE_WIDTH,NO_OF_CHANNELS))\n",
    "    face_part=face_part/255.0\n",
    "    emotion=emotions[np.argmax(emotion_detector.predict(face_part))]\n",
    "    print(emotion)\n",
    "    cv2.putText(image,emotion,(face.rect.left()-20,face.rect.top()-20),cv2.FONT_HERSHEY_SIMPLEX, 4,(255,255,255),2,cv2.LINE_AA)\n",
    "cv2.namedWindow('test', cv2.WINDOW_NORMAL)\n",
    "cv2.imshow('test',image)\n",
    "cv2.waitKey(0)\n",
    "cv2.destroyAllWindows()"
   ]
  },
  {
   "cell_type": "code",
   "execution_count": null,
   "metadata": {},
   "outputs": [],
   "source": []
  }
 ],
 "metadata": {
  "kernelspec": {
   "display_name": "Python 3",
   "language": "python",
   "name": "python3"
  },
  "language_info": {
   "codemirror_mode": {
    "name": "ipython",
    "version": 3
   },
   "file_extension": ".py",
   "mimetype": "text/x-python",
   "name": "python",
   "nbconvert_exporter": "python",
   "pygments_lexer": "ipython3",
   "version": "3.7.3"
  }
 },
 "nbformat": 4,
 "nbformat_minor": 2
}
